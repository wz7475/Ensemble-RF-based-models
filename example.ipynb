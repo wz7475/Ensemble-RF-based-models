{
 "cells": [
  {
   "cell_type": "code",
   "execution_count": 1,
   "metadata": {
    "collapsed": true,
    "ExecuteTime": {
     "end_time": "2024-01-23T12:05:23.038878743Z",
     "start_time": "2024-01-23T12:05:22.737253371Z"
    }
   },
   "outputs": [],
   "source": [
    "from ucimlrepo import fetch_ucirepo\n",
    "import pandas as pd\n",
    "import numpy as np"
   ]
  },
  {
   "cell_type": "code",
   "execution_count": 2,
   "outputs": [
    {
     "data": {
      "text/plain": "     poisonous cap-shape cap-surface cap-color bruises odor gill-attachment  \\\n0            p         x           s         n       t    p               f   \n1            e         x           s         y       t    a               f   \n2            e         b           s         w       t    l               f   \n3            p         x           y         w       t    p               f   \n4            e         x           s         g       f    n               f   \n...        ...       ...         ...       ...     ...  ...             ...   \n8119         e         k           s         n       f    n               a   \n8120         e         x           s         n       f    n               a   \n8121         e         f           s         n       f    n               a   \n8122         p         k           y         n       f    y               f   \n8123         e         x           s         n       f    n               a   \n\n     gill-spacing gill-size gill-color  ... stalk-surface-below-ring  \\\n0               c         n          k  ...                        s   \n1               c         b          k  ...                        s   \n2               c         b          n  ...                        s   \n3               c         n          n  ...                        s   \n4               w         b          k  ...                        s   \n...           ...       ...        ...  ...                      ...   \n8119            c         b          y  ...                        s   \n8120            c         b          y  ...                        s   \n8121            c         b          n  ...                        s   \n8122            c         n          b  ...                        k   \n8123            c         b          y  ...                        s   \n\n     stalk-color-above-ring stalk-color-below-ring veil-type veil-color  \\\n0                         w                      w         p          w   \n1                         w                      w         p          w   \n2                         w                      w         p          w   \n3                         w                      w         p          w   \n4                         w                      w         p          w   \n...                     ...                    ...       ...        ...   \n8119                      o                      o         p          o   \n8120                      o                      o         p          n   \n8121                      o                      o         p          o   \n8122                      w                      w         p          w   \n8123                      o                      o         p          o   \n\n     ring-number ring-type spore-print-color population habitat  \n0              o         p                 k          s       u  \n1              o         p                 n          n       g  \n2              o         p                 n          n       m  \n3              o         p                 k          s       u  \n4              o         e                 n          a       g  \n...          ...       ...               ...        ...     ...  \n8119           o         p                 b          c       l  \n8120           o         p                 b          v       l  \n8121           o         p                 b          c       l  \n8122           o         e                 w          v       l  \n8123           o         p                 o          c       l  \n\n[8124 rows x 23 columns]",
      "text/html": "<div>\n<style scoped>\n    .dataframe tbody tr th:only-of-type {\n        vertical-align: middle;\n    }\n\n    .dataframe tbody tr th {\n        vertical-align: top;\n    }\n\n    .dataframe thead th {\n        text-align: right;\n    }\n</style>\n<table border=\"1\" class=\"dataframe\">\n  <thead>\n    <tr style=\"text-align: right;\">\n      <th></th>\n      <th>poisonous</th>\n      <th>cap-shape</th>\n      <th>cap-surface</th>\n      <th>cap-color</th>\n      <th>bruises</th>\n      <th>odor</th>\n      <th>gill-attachment</th>\n      <th>gill-spacing</th>\n      <th>gill-size</th>\n      <th>gill-color</th>\n      <th>...</th>\n      <th>stalk-surface-below-ring</th>\n      <th>stalk-color-above-ring</th>\n      <th>stalk-color-below-ring</th>\n      <th>veil-type</th>\n      <th>veil-color</th>\n      <th>ring-number</th>\n      <th>ring-type</th>\n      <th>spore-print-color</th>\n      <th>population</th>\n      <th>habitat</th>\n    </tr>\n  </thead>\n  <tbody>\n    <tr>\n      <th>0</th>\n      <td>p</td>\n      <td>x</td>\n      <td>s</td>\n      <td>n</td>\n      <td>t</td>\n      <td>p</td>\n      <td>f</td>\n      <td>c</td>\n      <td>n</td>\n      <td>k</td>\n      <td>...</td>\n      <td>s</td>\n      <td>w</td>\n      <td>w</td>\n      <td>p</td>\n      <td>w</td>\n      <td>o</td>\n      <td>p</td>\n      <td>k</td>\n      <td>s</td>\n      <td>u</td>\n    </tr>\n    <tr>\n      <th>1</th>\n      <td>e</td>\n      <td>x</td>\n      <td>s</td>\n      <td>y</td>\n      <td>t</td>\n      <td>a</td>\n      <td>f</td>\n      <td>c</td>\n      <td>b</td>\n      <td>k</td>\n      <td>...</td>\n      <td>s</td>\n      <td>w</td>\n      <td>w</td>\n      <td>p</td>\n      <td>w</td>\n      <td>o</td>\n      <td>p</td>\n      <td>n</td>\n      <td>n</td>\n      <td>g</td>\n    </tr>\n    <tr>\n      <th>2</th>\n      <td>e</td>\n      <td>b</td>\n      <td>s</td>\n      <td>w</td>\n      <td>t</td>\n      <td>l</td>\n      <td>f</td>\n      <td>c</td>\n      <td>b</td>\n      <td>n</td>\n      <td>...</td>\n      <td>s</td>\n      <td>w</td>\n      <td>w</td>\n      <td>p</td>\n      <td>w</td>\n      <td>o</td>\n      <td>p</td>\n      <td>n</td>\n      <td>n</td>\n      <td>m</td>\n    </tr>\n    <tr>\n      <th>3</th>\n      <td>p</td>\n      <td>x</td>\n      <td>y</td>\n      <td>w</td>\n      <td>t</td>\n      <td>p</td>\n      <td>f</td>\n      <td>c</td>\n      <td>n</td>\n      <td>n</td>\n      <td>...</td>\n      <td>s</td>\n      <td>w</td>\n      <td>w</td>\n      <td>p</td>\n      <td>w</td>\n      <td>o</td>\n      <td>p</td>\n      <td>k</td>\n      <td>s</td>\n      <td>u</td>\n    </tr>\n    <tr>\n      <th>4</th>\n      <td>e</td>\n      <td>x</td>\n      <td>s</td>\n      <td>g</td>\n      <td>f</td>\n      <td>n</td>\n      <td>f</td>\n      <td>w</td>\n      <td>b</td>\n      <td>k</td>\n      <td>...</td>\n      <td>s</td>\n      <td>w</td>\n      <td>w</td>\n      <td>p</td>\n      <td>w</td>\n      <td>o</td>\n      <td>e</td>\n      <td>n</td>\n      <td>a</td>\n      <td>g</td>\n    </tr>\n    <tr>\n      <th>...</th>\n      <td>...</td>\n      <td>...</td>\n      <td>...</td>\n      <td>...</td>\n      <td>...</td>\n      <td>...</td>\n      <td>...</td>\n      <td>...</td>\n      <td>...</td>\n      <td>...</td>\n      <td>...</td>\n      <td>...</td>\n      <td>...</td>\n      <td>...</td>\n      <td>...</td>\n      <td>...</td>\n      <td>...</td>\n      <td>...</td>\n      <td>...</td>\n      <td>...</td>\n      <td>...</td>\n    </tr>\n    <tr>\n      <th>8119</th>\n      <td>e</td>\n      <td>k</td>\n      <td>s</td>\n      <td>n</td>\n      <td>f</td>\n      <td>n</td>\n      <td>a</td>\n      <td>c</td>\n      <td>b</td>\n      <td>y</td>\n      <td>...</td>\n      <td>s</td>\n      <td>o</td>\n      <td>o</td>\n      <td>p</td>\n      <td>o</td>\n      <td>o</td>\n      <td>p</td>\n      <td>b</td>\n      <td>c</td>\n      <td>l</td>\n    </tr>\n    <tr>\n      <th>8120</th>\n      <td>e</td>\n      <td>x</td>\n      <td>s</td>\n      <td>n</td>\n      <td>f</td>\n      <td>n</td>\n      <td>a</td>\n      <td>c</td>\n      <td>b</td>\n      <td>y</td>\n      <td>...</td>\n      <td>s</td>\n      <td>o</td>\n      <td>o</td>\n      <td>p</td>\n      <td>n</td>\n      <td>o</td>\n      <td>p</td>\n      <td>b</td>\n      <td>v</td>\n      <td>l</td>\n    </tr>\n    <tr>\n      <th>8121</th>\n      <td>e</td>\n      <td>f</td>\n      <td>s</td>\n      <td>n</td>\n      <td>f</td>\n      <td>n</td>\n      <td>a</td>\n      <td>c</td>\n      <td>b</td>\n      <td>n</td>\n      <td>...</td>\n      <td>s</td>\n      <td>o</td>\n      <td>o</td>\n      <td>p</td>\n      <td>o</td>\n      <td>o</td>\n      <td>p</td>\n      <td>b</td>\n      <td>c</td>\n      <td>l</td>\n    </tr>\n    <tr>\n      <th>8122</th>\n      <td>p</td>\n      <td>k</td>\n      <td>y</td>\n      <td>n</td>\n      <td>f</td>\n      <td>y</td>\n      <td>f</td>\n      <td>c</td>\n      <td>n</td>\n      <td>b</td>\n      <td>...</td>\n      <td>k</td>\n      <td>w</td>\n      <td>w</td>\n      <td>p</td>\n      <td>w</td>\n      <td>o</td>\n      <td>e</td>\n      <td>w</td>\n      <td>v</td>\n      <td>l</td>\n    </tr>\n    <tr>\n      <th>8123</th>\n      <td>e</td>\n      <td>x</td>\n      <td>s</td>\n      <td>n</td>\n      <td>f</td>\n      <td>n</td>\n      <td>a</td>\n      <td>c</td>\n      <td>b</td>\n      <td>y</td>\n      <td>...</td>\n      <td>s</td>\n      <td>o</td>\n      <td>o</td>\n      <td>p</td>\n      <td>o</td>\n      <td>o</td>\n      <td>p</td>\n      <td>o</td>\n      <td>c</td>\n      <td>l</td>\n    </tr>\n  </tbody>\n</table>\n<p>8124 rows × 23 columns</p>\n</div>"
     },
     "execution_count": 2,
     "metadata": {},
     "output_type": "execute_result"
    }
   ],
   "source": [
    "mushroom = fetch_ucirepo(id=73)\n",
    "mushroom_features_df = pd.DataFrame.from_dict(mushroom['data']['features'])\n",
    "mushroom_classes_df = pd.DataFrame.from_dict(mushroom['data']['targets'])\n",
    "pd.concat([mushroom_classes_df, mushroom_features_df], axis=1)"
   ],
   "metadata": {
    "collapsed": false,
    "ExecuteTime": {
     "end_time": "2024-01-23T12:05:27.656181649Z",
     "start_time": "2024-01-23T12:05:23.079014894Z"
    }
   }
  },
  {
   "cell_type": "code",
   "execution_count": 3,
   "outputs": [
    {
     "data": {
      "text/plain": "    Diagnosis  radius1  texture1  perimeter1   area1  smoothness1  \\\n0           M    17.99     10.38      122.80  1001.0      0.11840   \n1           M    20.57     17.77      132.90  1326.0      0.08474   \n2           M    19.69     21.25      130.00  1203.0      0.10960   \n3           M    11.42     20.38       77.58   386.1      0.14250   \n4           M    20.29     14.34      135.10  1297.0      0.10030   \n..        ...      ...       ...         ...     ...          ...   \n564         M    21.56     22.39      142.00  1479.0      0.11100   \n565         M    20.13     28.25      131.20  1261.0      0.09780   \n566         M    16.60     28.08      108.30   858.1      0.08455   \n567         M    20.60     29.33      140.10  1265.0      0.11780   \n568         B     7.76     24.54       47.92   181.0      0.05263   \n\n     compactness1  concavity1  concave_points1  symmetry1  ...  radius3  \\\n0         0.27760     0.30010          0.14710     0.2419  ...   25.380   \n1         0.07864     0.08690          0.07017     0.1812  ...   24.990   \n2         0.15990     0.19740          0.12790     0.2069  ...   23.570   \n3         0.28390     0.24140          0.10520     0.2597  ...   14.910   \n4         0.13280     0.19800          0.10430     0.1809  ...   22.540   \n..            ...         ...              ...        ...  ...      ...   \n564       0.11590     0.24390          0.13890     0.1726  ...   25.450   \n565       0.10340     0.14400          0.09791     0.1752  ...   23.690   \n566       0.10230     0.09251          0.05302     0.1590  ...   18.980   \n567       0.27700     0.35140          0.15200     0.2397  ...   25.740   \n568       0.04362     0.00000          0.00000     0.1587  ...    9.456   \n\n     texture3  perimeter3   area3  smoothness3  compactness3  concavity3  \\\n0       17.33      184.60  2019.0      0.16220       0.66560      0.7119   \n1       23.41      158.80  1956.0      0.12380       0.18660      0.2416   \n2       25.53      152.50  1709.0      0.14440       0.42450      0.4504   \n3       26.50       98.87   567.7      0.20980       0.86630      0.6869   \n4       16.67      152.20  1575.0      0.13740       0.20500      0.4000   \n..        ...         ...     ...          ...           ...         ...   \n564     26.40      166.10  2027.0      0.14100       0.21130      0.4107   \n565     38.25      155.00  1731.0      0.11660       0.19220      0.3215   \n566     34.12      126.70  1124.0      0.11390       0.30940      0.3403   \n567     39.42      184.60  1821.0      0.16500       0.86810      0.9387   \n568     30.37       59.16   268.6      0.08996       0.06444      0.0000   \n\n     concave_points3  symmetry3  fractal_dimension3  \n0             0.2654     0.4601             0.11890  \n1             0.1860     0.2750             0.08902  \n2             0.2430     0.3613             0.08758  \n3             0.2575     0.6638             0.17300  \n4             0.1625     0.2364             0.07678  \n..               ...        ...                 ...  \n564           0.2216     0.2060             0.07115  \n565           0.1628     0.2572             0.06637  \n566           0.1418     0.2218             0.07820  \n567           0.2650     0.4087             0.12400  \n568           0.0000     0.2871             0.07039  \n\n[569 rows x 31 columns]",
      "text/html": "<div>\n<style scoped>\n    .dataframe tbody tr th:only-of-type {\n        vertical-align: middle;\n    }\n\n    .dataframe tbody tr th {\n        vertical-align: top;\n    }\n\n    .dataframe thead th {\n        text-align: right;\n    }\n</style>\n<table border=\"1\" class=\"dataframe\">\n  <thead>\n    <tr style=\"text-align: right;\">\n      <th></th>\n      <th>Diagnosis</th>\n      <th>radius1</th>\n      <th>texture1</th>\n      <th>perimeter1</th>\n      <th>area1</th>\n      <th>smoothness1</th>\n      <th>compactness1</th>\n      <th>concavity1</th>\n      <th>concave_points1</th>\n      <th>symmetry1</th>\n      <th>...</th>\n      <th>radius3</th>\n      <th>texture3</th>\n      <th>perimeter3</th>\n      <th>area3</th>\n      <th>smoothness3</th>\n      <th>compactness3</th>\n      <th>concavity3</th>\n      <th>concave_points3</th>\n      <th>symmetry3</th>\n      <th>fractal_dimension3</th>\n    </tr>\n  </thead>\n  <tbody>\n    <tr>\n      <th>0</th>\n      <td>M</td>\n      <td>17.99</td>\n      <td>10.38</td>\n      <td>122.80</td>\n      <td>1001.0</td>\n      <td>0.11840</td>\n      <td>0.27760</td>\n      <td>0.30010</td>\n      <td>0.14710</td>\n      <td>0.2419</td>\n      <td>...</td>\n      <td>25.380</td>\n      <td>17.33</td>\n      <td>184.60</td>\n      <td>2019.0</td>\n      <td>0.16220</td>\n      <td>0.66560</td>\n      <td>0.7119</td>\n      <td>0.2654</td>\n      <td>0.4601</td>\n      <td>0.11890</td>\n    </tr>\n    <tr>\n      <th>1</th>\n      <td>M</td>\n      <td>20.57</td>\n      <td>17.77</td>\n      <td>132.90</td>\n      <td>1326.0</td>\n      <td>0.08474</td>\n      <td>0.07864</td>\n      <td>0.08690</td>\n      <td>0.07017</td>\n      <td>0.1812</td>\n      <td>...</td>\n      <td>24.990</td>\n      <td>23.41</td>\n      <td>158.80</td>\n      <td>1956.0</td>\n      <td>0.12380</td>\n      <td>0.18660</td>\n      <td>0.2416</td>\n      <td>0.1860</td>\n      <td>0.2750</td>\n      <td>0.08902</td>\n    </tr>\n    <tr>\n      <th>2</th>\n      <td>M</td>\n      <td>19.69</td>\n      <td>21.25</td>\n      <td>130.00</td>\n      <td>1203.0</td>\n      <td>0.10960</td>\n      <td>0.15990</td>\n      <td>0.19740</td>\n      <td>0.12790</td>\n      <td>0.2069</td>\n      <td>...</td>\n      <td>23.570</td>\n      <td>25.53</td>\n      <td>152.50</td>\n      <td>1709.0</td>\n      <td>0.14440</td>\n      <td>0.42450</td>\n      <td>0.4504</td>\n      <td>0.2430</td>\n      <td>0.3613</td>\n      <td>0.08758</td>\n    </tr>\n    <tr>\n      <th>3</th>\n      <td>M</td>\n      <td>11.42</td>\n      <td>20.38</td>\n      <td>77.58</td>\n      <td>386.1</td>\n      <td>0.14250</td>\n      <td>0.28390</td>\n      <td>0.24140</td>\n      <td>0.10520</td>\n      <td>0.2597</td>\n      <td>...</td>\n      <td>14.910</td>\n      <td>26.50</td>\n      <td>98.87</td>\n      <td>567.7</td>\n      <td>0.20980</td>\n      <td>0.86630</td>\n      <td>0.6869</td>\n      <td>0.2575</td>\n      <td>0.6638</td>\n      <td>0.17300</td>\n    </tr>\n    <tr>\n      <th>4</th>\n      <td>M</td>\n      <td>20.29</td>\n      <td>14.34</td>\n      <td>135.10</td>\n      <td>1297.0</td>\n      <td>0.10030</td>\n      <td>0.13280</td>\n      <td>0.19800</td>\n      <td>0.10430</td>\n      <td>0.1809</td>\n      <td>...</td>\n      <td>22.540</td>\n      <td>16.67</td>\n      <td>152.20</td>\n      <td>1575.0</td>\n      <td>0.13740</td>\n      <td>0.20500</td>\n      <td>0.4000</td>\n      <td>0.1625</td>\n      <td>0.2364</td>\n      <td>0.07678</td>\n    </tr>\n    <tr>\n      <th>...</th>\n      <td>...</td>\n      <td>...</td>\n      <td>...</td>\n      <td>...</td>\n      <td>...</td>\n      <td>...</td>\n      <td>...</td>\n      <td>...</td>\n      <td>...</td>\n      <td>...</td>\n      <td>...</td>\n      <td>...</td>\n      <td>...</td>\n      <td>...</td>\n      <td>...</td>\n      <td>...</td>\n      <td>...</td>\n      <td>...</td>\n      <td>...</td>\n      <td>...</td>\n      <td>...</td>\n    </tr>\n    <tr>\n      <th>564</th>\n      <td>M</td>\n      <td>21.56</td>\n      <td>22.39</td>\n      <td>142.00</td>\n      <td>1479.0</td>\n      <td>0.11100</td>\n      <td>0.11590</td>\n      <td>0.24390</td>\n      <td>0.13890</td>\n      <td>0.1726</td>\n      <td>...</td>\n      <td>25.450</td>\n      <td>26.40</td>\n      <td>166.10</td>\n      <td>2027.0</td>\n      <td>0.14100</td>\n      <td>0.21130</td>\n      <td>0.4107</td>\n      <td>0.2216</td>\n      <td>0.2060</td>\n      <td>0.07115</td>\n    </tr>\n    <tr>\n      <th>565</th>\n      <td>M</td>\n      <td>20.13</td>\n      <td>28.25</td>\n      <td>131.20</td>\n      <td>1261.0</td>\n      <td>0.09780</td>\n      <td>0.10340</td>\n      <td>0.14400</td>\n      <td>0.09791</td>\n      <td>0.1752</td>\n      <td>...</td>\n      <td>23.690</td>\n      <td>38.25</td>\n      <td>155.00</td>\n      <td>1731.0</td>\n      <td>0.11660</td>\n      <td>0.19220</td>\n      <td>0.3215</td>\n      <td>0.1628</td>\n      <td>0.2572</td>\n      <td>0.06637</td>\n    </tr>\n    <tr>\n      <th>566</th>\n      <td>M</td>\n      <td>16.60</td>\n      <td>28.08</td>\n      <td>108.30</td>\n      <td>858.1</td>\n      <td>0.08455</td>\n      <td>0.10230</td>\n      <td>0.09251</td>\n      <td>0.05302</td>\n      <td>0.1590</td>\n      <td>...</td>\n      <td>18.980</td>\n      <td>34.12</td>\n      <td>126.70</td>\n      <td>1124.0</td>\n      <td>0.11390</td>\n      <td>0.30940</td>\n      <td>0.3403</td>\n      <td>0.1418</td>\n      <td>0.2218</td>\n      <td>0.07820</td>\n    </tr>\n    <tr>\n      <th>567</th>\n      <td>M</td>\n      <td>20.60</td>\n      <td>29.33</td>\n      <td>140.10</td>\n      <td>1265.0</td>\n      <td>0.11780</td>\n      <td>0.27700</td>\n      <td>0.35140</td>\n      <td>0.15200</td>\n      <td>0.2397</td>\n      <td>...</td>\n      <td>25.740</td>\n      <td>39.42</td>\n      <td>184.60</td>\n      <td>1821.0</td>\n      <td>0.16500</td>\n      <td>0.86810</td>\n      <td>0.9387</td>\n      <td>0.2650</td>\n      <td>0.4087</td>\n      <td>0.12400</td>\n    </tr>\n    <tr>\n      <th>568</th>\n      <td>B</td>\n      <td>7.76</td>\n      <td>24.54</td>\n      <td>47.92</td>\n      <td>181.0</td>\n      <td>0.05263</td>\n      <td>0.04362</td>\n      <td>0.00000</td>\n      <td>0.00000</td>\n      <td>0.1587</td>\n      <td>...</td>\n      <td>9.456</td>\n      <td>30.37</td>\n      <td>59.16</td>\n      <td>268.6</td>\n      <td>0.08996</td>\n      <td>0.06444</td>\n      <td>0.0000</td>\n      <td>0.0000</td>\n      <td>0.2871</td>\n      <td>0.07039</td>\n    </tr>\n  </tbody>\n</table>\n<p>569 rows × 31 columns</p>\n</div>"
     },
     "execution_count": 3,
     "metadata": {},
     "output_type": "execute_result"
    }
   ],
   "source": [
    "breast_cancer = fetch_ucirepo(id=17)\n",
    "breast_cancer_features_df = pd.DataFrame.from_dict(breast_cancer['data']['features'])\n",
    "breast_cancer_classes_df = pd.DataFrame.from_dict(breast_cancer['data']['targets'])\n",
    "pd.concat([breast_cancer_classes_df, breast_cancer_features_df], axis=1)"
   ],
   "metadata": {
    "collapsed": false,
    "ExecuteTime": {
     "end_time": "2024-01-23T12:05:30.501811693Z",
     "start_time": "2024-01-23T12:05:27.655653533Z"
    }
   }
  },
  {
   "cell_type": "code",
   "execution_count": 4,
   "outputs": [
    {
     "data": {
      "text/plain": "      pclass survived                                             name  \\\n0          1        1                    Allen, Miss. Elisabeth Walton   \n1          1        1                   Allison, Master. Hudson Trevor   \n2          1        0                     Allison, Miss. Helen Loraine   \n3          1        0             Allison, Mr. Hudson Joshua Creighton   \n4          1        0  Allison, Mrs. Hudson J C (Bessie Waldo Daniels)   \n...      ...      ...                                              ...   \n1304       3        0                             Zabour, Miss. Hileni   \n1305       3        0                            Zabour, Miss. Thamine   \n1306       3        0                        Zakarian, Mr. Mapriededer   \n1307       3        0                              Zakarian, Mr. Ortin   \n1308       3        0                               Zimmerman, Mr. Leo   \n\n         sex      age  sibsp  parch  ticket      fare    cabin embarked boat  \\\n0     female  29.0000      0      0   24160  211.3375       B5        S    2   \n1       male   0.9167      1      2  113781  151.5500  C22 C26        S   11   \n2     female   2.0000      1      2  113781  151.5500  C22 C26        S    0   \n3       male  30.0000      1      2  113781  151.5500  C22 C26        S    0   \n4     female  25.0000      1      2  113781  151.5500  C22 C26        S    0   \n...      ...      ...    ...    ...     ...       ...      ...      ...  ...   \n1304  female  14.5000      1      0    2665   14.4542      NaN        C    0   \n1305  female      NaN      1      0    2665   14.4542      NaN        C    0   \n1306    male  26.5000      0      0    2656    7.2250      NaN        C    0   \n1307    male  27.0000      0      0    2670    7.2250      NaN        C    0   \n1308    male  29.0000      0      0  315082    7.8750      NaN        S    0   \n\n       body                        home.dest  \n0       0.0                     St Louis, MO  \n1       0.0  Montreal, PQ / Chesterville, ON  \n2       0.0  Montreal, PQ / Chesterville, ON  \n3     135.0  Montreal, PQ / Chesterville, ON  \n4       0.0  Montreal, PQ / Chesterville, ON  \n...     ...                              ...  \n1304  328.0                              NaN  \n1305    0.0                              NaN  \n1306  304.0                              NaN  \n1307    0.0                              NaN  \n1308    0.0                              NaN  \n\n[1309 rows x 14 columns]",
      "text/html": "<div>\n<style scoped>\n    .dataframe tbody tr th:only-of-type {\n        vertical-align: middle;\n    }\n\n    .dataframe tbody tr th {\n        vertical-align: top;\n    }\n\n    .dataframe thead th {\n        text-align: right;\n    }\n</style>\n<table border=\"1\" class=\"dataframe\">\n  <thead>\n    <tr style=\"text-align: right;\">\n      <th></th>\n      <th>pclass</th>\n      <th>survived</th>\n      <th>name</th>\n      <th>sex</th>\n      <th>age</th>\n      <th>sibsp</th>\n      <th>parch</th>\n      <th>ticket</th>\n      <th>fare</th>\n      <th>cabin</th>\n      <th>embarked</th>\n      <th>boat</th>\n      <th>body</th>\n      <th>home.dest</th>\n    </tr>\n  </thead>\n  <tbody>\n    <tr>\n      <th>0</th>\n      <td>1</td>\n      <td>1</td>\n      <td>Allen, Miss. Elisabeth Walton</td>\n      <td>female</td>\n      <td>29.0000</td>\n      <td>0</td>\n      <td>0</td>\n      <td>24160</td>\n      <td>211.3375</td>\n      <td>B5</td>\n      <td>S</td>\n      <td>2</td>\n      <td>0.0</td>\n      <td>St Louis, MO</td>\n    </tr>\n    <tr>\n      <th>1</th>\n      <td>1</td>\n      <td>1</td>\n      <td>Allison, Master. Hudson Trevor</td>\n      <td>male</td>\n      <td>0.9167</td>\n      <td>1</td>\n      <td>2</td>\n      <td>113781</td>\n      <td>151.5500</td>\n      <td>C22 C26</td>\n      <td>S</td>\n      <td>11</td>\n      <td>0.0</td>\n      <td>Montreal, PQ / Chesterville, ON</td>\n    </tr>\n    <tr>\n      <th>2</th>\n      <td>1</td>\n      <td>0</td>\n      <td>Allison, Miss. Helen Loraine</td>\n      <td>female</td>\n      <td>2.0000</td>\n      <td>1</td>\n      <td>2</td>\n      <td>113781</td>\n      <td>151.5500</td>\n      <td>C22 C26</td>\n      <td>S</td>\n      <td>0</td>\n      <td>0.0</td>\n      <td>Montreal, PQ / Chesterville, ON</td>\n    </tr>\n    <tr>\n      <th>3</th>\n      <td>1</td>\n      <td>0</td>\n      <td>Allison, Mr. Hudson Joshua Creighton</td>\n      <td>male</td>\n      <td>30.0000</td>\n      <td>1</td>\n      <td>2</td>\n      <td>113781</td>\n      <td>151.5500</td>\n      <td>C22 C26</td>\n      <td>S</td>\n      <td>0</td>\n      <td>135.0</td>\n      <td>Montreal, PQ / Chesterville, ON</td>\n    </tr>\n    <tr>\n      <th>4</th>\n      <td>1</td>\n      <td>0</td>\n      <td>Allison, Mrs. Hudson J C (Bessie Waldo Daniels)</td>\n      <td>female</td>\n      <td>25.0000</td>\n      <td>1</td>\n      <td>2</td>\n      <td>113781</td>\n      <td>151.5500</td>\n      <td>C22 C26</td>\n      <td>S</td>\n      <td>0</td>\n      <td>0.0</td>\n      <td>Montreal, PQ / Chesterville, ON</td>\n    </tr>\n    <tr>\n      <th>...</th>\n      <td>...</td>\n      <td>...</td>\n      <td>...</td>\n      <td>...</td>\n      <td>...</td>\n      <td>...</td>\n      <td>...</td>\n      <td>...</td>\n      <td>...</td>\n      <td>...</td>\n      <td>...</td>\n      <td>...</td>\n      <td>...</td>\n      <td>...</td>\n    </tr>\n    <tr>\n      <th>1304</th>\n      <td>3</td>\n      <td>0</td>\n      <td>Zabour, Miss. Hileni</td>\n      <td>female</td>\n      <td>14.5000</td>\n      <td>1</td>\n      <td>0</td>\n      <td>2665</td>\n      <td>14.4542</td>\n      <td>NaN</td>\n      <td>C</td>\n      <td>0</td>\n      <td>328.0</td>\n      <td>NaN</td>\n    </tr>\n    <tr>\n      <th>1305</th>\n      <td>3</td>\n      <td>0</td>\n      <td>Zabour, Miss. Thamine</td>\n      <td>female</td>\n      <td>NaN</td>\n      <td>1</td>\n      <td>0</td>\n      <td>2665</td>\n      <td>14.4542</td>\n      <td>NaN</td>\n      <td>C</td>\n      <td>0</td>\n      <td>0.0</td>\n      <td>NaN</td>\n    </tr>\n    <tr>\n      <th>1306</th>\n      <td>3</td>\n      <td>0</td>\n      <td>Zakarian, Mr. Mapriededer</td>\n      <td>male</td>\n      <td>26.5000</td>\n      <td>0</td>\n      <td>0</td>\n      <td>2656</td>\n      <td>7.2250</td>\n      <td>NaN</td>\n      <td>C</td>\n      <td>0</td>\n      <td>304.0</td>\n      <td>NaN</td>\n    </tr>\n    <tr>\n      <th>1307</th>\n      <td>3</td>\n      <td>0</td>\n      <td>Zakarian, Mr. Ortin</td>\n      <td>male</td>\n      <td>27.0000</td>\n      <td>0</td>\n      <td>0</td>\n      <td>2670</td>\n      <td>7.2250</td>\n      <td>NaN</td>\n      <td>C</td>\n      <td>0</td>\n      <td>0.0</td>\n      <td>NaN</td>\n    </tr>\n    <tr>\n      <th>1308</th>\n      <td>3</td>\n      <td>0</td>\n      <td>Zimmerman, Mr. Leo</td>\n      <td>male</td>\n      <td>29.0000</td>\n      <td>0</td>\n      <td>0</td>\n      <td>315082</td>\n      <td>7.8750</td>\n      <td>NaN</td>\n      <td>S</td>\n      <td>0</td>\n      <td>0.0</td>\n      <td>NaN</td>\n    </tr>\n  </tbody>\n</table>\n<p>1309 rows × 14 columns</p>\n</div>"
     },
     "execution_count": 4,
     "metadata": {},
     "output_type": "execute_result"
    }
   ],
   "source": [
    "from sklearn.preprocessing import LabelEncoder, LabelBinarizer\n",
    "from sklearn.datasets import fetch_openml\n",
    "\n",
    "titanic = fetch_openml(name='titanic', version=1)\n",
    "titanic_df = titanic['frame']\n",
    "titanic_df['boat'] = titanic_df['boat'].fillna(value=0)\n",
    "titanic_df['body'] = titanic_df['body'].fillna(value=0)\n",
    "\n",
    "titanic_df['body'] = titanic_df['body'].fillna(value=0)\n",
    "\n",
    "titanic_df"
   ],
   "metadata": {
    "collapsed": false,
    "ExecuteTime": {
     "end_time": "2024-01-23T12:05:30.939237082Z",
     "start_time": "2024-01-23T12:05:30.505201984Z"
    }
   }
  },
  {
   "cell_type": "code",
   "execution_count": 5,
   "outputs": [
    {
     "data": {
      "text/plain": "      pclass  survived                                             name  sex  \\\n0          1         1                    Allen, Miss. Elisabeth Walton    0   \n1          1         1                   Allison, Master. Hudson Trevor    1   \n2          1         0                     Allison, Miss. Helen Loraine    0   \n3          1         0             Allison, Mr. Hudson Joshua Creighton    1   \n4          1         0  Allison, Mrs. Hudson J C (Bessie Waldo Daniels)    0   \n...      ...       ...                                              ...  ...   \n1304       3         0                             Zabour, Miss. Hileni    0   \n1305       3         0                            Zabour, Miss. Thamine    0   \n1306       3         0                        Zakarian, Mr. Mapriededer    1   \n1307       3         0                              Zakarian, Mr. Ortin    1   \n1308       3         0                               Zimmerman, Mr. Leo    1   \n\n          age  sibsp  parch  ticket      fare  cabin  embarked  boat   body  \\\n0     29.0000      0      0     187  211.3375     43         2    12    0.0   \n1      0.9167      1      2      49  151.5500     79         2     3    0.0   \n2      2.0000      1      2      49  151.5500     79         2     0    0.0   \n3     30.0000      1      2      49  151.5500     79         2     0  135.0   \n4     25.0000      1      2      49  151.5500     79         2     0    0.0   \n...       ...    ...    ...     ...       ...    ...       ...   ...    ...   \n1304  14.5000      1      0     259   14.4542    186         0     0  328.0   \n1305      NaN      1      0     259   14.4542    186         0     0    0.0   \n1306  26.5000      0      0     250    7.2250    186         0     0  304.0   \n1307  27.0000      0      0     264    7.2250    186         0     0    0.0   \n1308  29.0000      0      0     346    7.8750    186         2     0    0.0   \n\n      home.dest  \n0           308  \n1           230  \n2           230  \n3           230  \n4           230  \n...         ...  \n1304        369  \n1305        369  \n1306        369  \n1307        369  \n1308        369  \n\n[1309 rows x 14 columns]",
      "text/html": "<div>\n<style scoped>\n    .dataframe tbody tr th:only-of-type {\n        vertical-align: middle;\n    }\n\n    .dataframe tbody tr th {\n        vertical-align: top;\n    }\n\n    .dataframe thead th {\n        text-align: right;\n    }\n</style>\n<table border=\"1\" class=\"dataframe\">\n  <thead>\n    <tr style=\"text-align: right;\">\n      <th></th>\n      <th>pclass</th>\n      <th>survived</th>\n      <th>name</th>\n      <th>sex</th>\n      <th>age</th>\n      <th>sibsp</th>\n      <th>parch</th>\n      <th>ticket</th>\n      <th>fare</th>\n      <th>cabin</th>\n      <th>embarked</th>\n      <th>boat</th>\n      <th>body</th>\n      <th>home.dest</th>\n    </tr>\n  </thead>\n  <tbody>\n    <tr>\n      <th>0</th>\n      <td>1</td>\n      <td>1</td>\n      <td>Allen, Miss. Elisabeth Walton</td>\n      <td>0</td>\n      <td>29.0000</td>\n      <td>0</td>\n      <td>0</td>\n      <td>187</td>\n      <td>211.3375</td>\n      <td>43</td>\n      <td>2</td>\n      <td>12</td>\n      <td>0.0</td>\n      <td>308</td>\n    </tr>\n    <tr>\n      <th>1</th>\n      <td>1</td>\n      <td>1</td>\n      <td>Allison, Master. Hudson Trevor</td>\n      <td>1</td>\n      <td>0.9167</td>\n      <td>1</td>\n      <td>2</td>\n      <td>49</td>\n      <td>151.5500</td>\n      <td>79</td>\n      <td>2</td>\n      <td>3</td>\n      <td>0.0</td>\n      <td>230</td>\n    </tr>\n    <tr>\n      <th>2</th>\n      <td>1</td>\n      <td>0</td>\n      <td>Allison, Miss. Helen Loraine</td>\n      <td>0</td>\n      <td>2.0000</td>\n      <td>1</td>\n      <td>2</td>\n      <td>49</td>\n      <td>151.5500</td>\n      <td>79</td>\n      <td>2</td>\n      <td>0</td>\n      <td>0.0</td>\n      <td>230</td>\n    </tr>\n    <tr>\n      <th>3</th>\n      <td>1</td>\n      <td>0</td>\n      <td>Allison, Mr. Hudson Joshua Creighton</td>\n      <td>1</td>\n      <td>30.0000</td>\n      <td>1</td>\n      <td>2</td>\n      <td>49</td>\n      <td>151.5500</td>\n      <td>79</td>\n      <td>2</td>\n      <td>0</td>\n      <td>135.0</td>\n      <td>230</td>\n    </tr>\n    <tr>\n      <th>4</th>\n      <td>1</td>\n      <td>0</td>\n      <td>Allison, Mrs. Hudson J C (Bessie Waldo Daniels)</td>\n      <td>0</td>\n      <td>25.0000</td>\n      <td>1</td>\n      <td>2</td>\n      <td>49</td>\n      <td>151.5500</td>\n      <td>79</td>\n      <td>2</td>\n      <td>0</td>\n      <td>0.0</td>\n      <td>230</td>\n    </tr>\n    <tr>\n      <th>...</th>\n      <td>...</td>\n      <td>...</td>\n      <td>...</td>\n      <td>...</td>\n      <td>...</td>\n      <td>...</td>\n      <td>...</td>\n      <td>...</td>\n      <td>...</td>\n      <td>...</td>\n      <td>...</td>\n      <td>...</td>\n      <td>...</td>\n      <td>...</td>\n    </tr>\n    <tr>\n      <th>1304</th>\n      <td>3</td>\n      <td>0</td>\n      <td>Zabour, Miss. Hileni</td>\n      <td>0</td>\n      <td>14.5000</td>\n      <td>1</td>\n      <td>0</td>\n      <td>259</td>\n      <td>14.4542</td>\n      <td>186</td>\n      <td>0</td>\n      <td>0</td>\n      <td>328.0</td>\n      <td>369</td>\n    </tr>\n    <tr>\n      <th>1305</th>\n      <td>3</td>\n      <td>0</td>\n      <td>Zabour, Miss. Thamine</td>\n      <td>0</td>\n      <td>NaN</td>\n      <td>1</td>\n      <td>0</td>\n      <td>259</td>\n      <td>14.4542</td>\n      <td>186</td>\n      <td>0</td>\n      <td>0</td>\n      <td>0.0</td>\n      <td>369</td>\n    </tr>\n    <tr>\n      <th>1306</th>\n      <td>3</td>\n      <td>0</td>\n      <td>Zakarian, Mr. Mapriededer</td>\n      <td>1</td>\n      <td>26.5000</td>\n      <td>0</td>\n      <td>0</td>\n      <td>250</td>\n      <td>7.2250</td>\n      <td>186</td>\n      <td>0</td>\n      <td>0</td>\n      <td>304.0</td>\n      <td>369</td>\n    </tr>\n    <tr>\n      <th>1307</th>\n      <td>3</td>\n      <td>0</td>\n      <td>Zakarian, Mr. Ortin</td>\n      <td>1</td>\n      <td>27.0000</td>\n      <td>0</td>\n      <td>0</td>\n      <td>264</td>\n      <td>7.2250</td>\n      <td>186</td>\n      <td>0</td>\n      <td>0</td>\n      <td>0.0</td>\n      <td>369</td>\n    </tr>\n    <tr>\n      <th>1308</th>\n      <td>3</td>\n      <td>0</td>\n      <td>Zimmerman, Mr. Leo</td>\n      <td>1</td>\n      <td>29.0000</td>\n      <td>0</td>\n      <td>0</td>\n      <td>346</td>\n      <td>7.8750</td>\n      <td>186</td>\n      <td>2</td>\n      <td>0</td>\n      <td>0.0</td>\n      <td>369</td>\n    </tr>\n  </tbody>\n</table>\n<p>1309 rows × 14 columns</p>\n</div>"
     },
     "execution_count": 5,
     "metadata": {},
     "output_type": "execute_result"
    }
   ],
   "source": [
    "titanic_df_encoded = titanic_df\n",
    "\n",
    "titanic_df['boat'] = titanic_df['boat'].astype(str)\n",
    "titanic_df['boat'] = titanic_df['boat'].astype(str)\n",
    "\n",
    "encoded_features = ['sex', 'cabin', 'ticket', 'home.dest', 'embarked', 'boat']\n",
    "label_encoders = {feature: LabelEncoder() for feature in encoded_features}\n",
    "for feature, encoder in label_encoders.items():\n",
    "    titanic_df_encoded[feature] = encoder.fit_transform(titanic_df[feature])\n",
    "\n",
    "titanic_lb_survived = LabelBinarizer()\n",
    "titanic_df_encoded['survived'] = titanic_lb_survived.fit_transform(titanic_df['survived'])\n",
    "\n",
    "titanic_df_encoded"
   ],
   "metadata": {
    "collapsed": false,
    "ExecuteTime": {
     "end_time": "2024-01-23T12:05:31.034625834Z",
     "start_time": "2024-01-23T12:05:30.960262316Z"
    }
   }
  },
  {
   "cell_type": "markdown",
   "source": [
    "### Titanic example"
   ],
   "metadata": {
    "collapsed": false
   }
  },
  {
   "cell_type": "code",
   "execution_count": 6,
   "outputs": [],
   "source": [
    "def evaluate(clf, X, y, scoring=None) -> dict:\n",
    "    scoring = scoring or ['accuracy', 'precision', 'recall', 'roc_auc', 'f1']\n",
    "\n",
    "    cv = ShuffleSplit(n_splits=5, test_size=0.2, random_state=0)\n",
    "    _scores = cross_validate(clf, X, y, cv=cv, scoring=scoring, n_jobs=8, return_train_score=True)\n",
    "    return {name: score.mean() for name, score in _scores.items()}\n",
    "\n",
    "\n",
    "def evaluate_return_estimator(clf, X, y, scoring=None) -> tuple[dict, list]:\n",
    "    scoring = scoring or ['accuracy', 'precision', 'recall', 'roc_auc', 'f1']\n",
    "\n",
    "    cv = ShuffleSplit(n_splits=5, test_size=0.2, random_state=0)\n",
    "    _scores = cross_validate(clf, X, y, cv=cv, scoring=scoring, n_jobs=8, return_train_score=True,\n",
    "                             return_estimator=True)\n",
    "    return {name: score.mean() for name, score in _scores.items() if name != 'estimator'}, _scores['estimator']"
   ],
   "metadata": {
    "collapsed": false,
    "ExecuteTime": {
     "end_time": "2024-01-23T12:05:31.034850420Z",
     "start_time": "2024-01-23T12:05:31.003053338Z"
    }
   }
  },
  {
   "cell_type": "code",
   "execution_count": 7,
   "outputs": [],
   "source": [
    "from sklearn.ensemble import RandomForestClassifier"
   ],
   "metadata": {
    "collapsed": false,
    "ExecuteTime": {
     "end_time": "2024-01-23T12:05:31.132962184Z",
     "start_time": "2024-01-23T12:05:31.003306091Z"
    }
   }
  },
  {
   "cell_type": "code",
   "execution_count": 8,
   "outputs": [
    {
     "data": {
      "text/plain": "{'fit_time': 0.44005475044250486,\n 'score_time': 0.03493866920471191,\n 'test_accuracy': 0.9694656488549619,\n 'train_accuracy': 0.979178605539637,\n 'test_precision': 0.978717836518706,\n 'train_precision': 0.9821807658194726,\n 'test_recall': 0.9390172482521137,\n 'train_recall': 0.9630810164533848,\n 'test_roc_auc': 0.9932078203061592,\n 'train_roc_auc': 0.9983872216237619,\n 'test_f1': 0.9584444510857264,\n 'train_f1': 0.9725338233156222}"
     },
     "execution_count": 8,
     "metadata": {},
     "output_type": "execute_result"
    }
   ],
   "source": [
    "from sklearn.model_selection import cross_validate, ShuffleSplit\n",
    "\n",
    "N_ESTIMATORS = 200\n",
    "\n",
    "clf = RandomForestClassifier(n_estimators=N_ESTIMATORS)\n",
    "\n",
    "X = titanic_df_encoded.drop(['survived', 'name'], axis='columns')\n",
    "y = titanic_df['survived']\n",
    "\n",
    "evaluate(clf, X, y, scoring=['accuracy', 'precision', 'recall', 'roc_auc', 'f1'])"
   ],
   "metadata": {
    "collapsed": false,
    "ExecuteTime": {
     "end_time": "2024-01-23T12:05:33.381494313Z",
     "start_time": "2024-01-23T12:05:31.101404017Z"
    }
   }
  },
  {
   "cell_type": "markdown",
   "source": [
    "### Breast cancer example"
   ],
   "metadata": {
    "collapsed": false
   }
  },
  {
   "cell_type": "code",
   "execution_count": 9,
   "outputs": [
    {
     "data": {
      "text/plain": "{'fit_time': 0.4390377998352051,\n 'score_time': 0.02257199287414551,\n 'test_accuracy': 0.9631578947368421,\n 'train_accuracy': 1.0,\n 'test_precision': 0.9700757575757576,\n 'train_precision': 1.0,\n 'test_recall': 0.936269078273997,\n 'train_recall': 1.0,\n 'test_roc_auc': 0.9928690873412798,\n 'train_roc_auc': 1.0,\n 'test_f1': 0.9516461901101048,\n 'train_f1': 1.0}"
     },
     "execution_count": 9,
     "metadata": {},
     "output_type": "execute_result"
    }
   ],
   "source": [
    "clf = RandomForestClassifier(n_estimators=N_ESTIMATORS)\n",
    "\n",
    "X = breast_cancer_features_df\n",
    "breast_cancer_lb_diagnosis = LabelBinarizer()\n",
    "\n",
    "X = breast_cancer_features_df.to_numpy()\n",
    "y = np.squeeze(breast_cancer_lb_diagnosis.fit_transform(breast_cancer_classes_df))\n",
    "\n",
    "evaluate(clf, X, y, scoring=['accuracy', 'precision', 'recall', 'roc_auc', 'f1'])\n"
   ],
   "metadata": {
    "collapsed": false,
    "ExecuteTime": {
     "end_time": "2024-01-23T12:05:34.409735406Z",
     "start_time": "2024-01-23T12:05:33.391077982Z"
    }
   }
  },
  {
   "cell_type": "markdown",
   "source": [
    "### Mushroom example"
   ],
   "metadata": {
    "collapsed": false
   }
  },
  {
   "cell_type": "code",
   "execution_count": 10,
   "outputs": [
    {
     "data": {
      "text/plain": "{'fit_time': 0.7088542938232422,\n 'score_time': 0.0695723533630371,\n 'test_accuracy': 1.0,\n 'train_accuracy': 1.0,\n 'test_precision': 1.0,\n 'train_precision': 1.0,\n 'test_recall': 1.0,\n 'train_recall': 1.0,\n 'test_roc_auc': 1.0,\n 'train_roc_auc': 1.0,\n 'test_f1': 1.0,\n 'train_f1': 1.0}"
     },
     "execution_count": 10,
     "metadata": {},
     "output_type": "execute_result"
    }
   ],
   "source": [
    "clf = RandomForestClassifier(n_estimators=N_ESTIMATORS)\n",
    "\n",
    "mushroom_lb_poisonous = LabelBinarizer()\n",
    "\n",
    "mushroom_features_df_encoded = mushroom_features_df\n",
    "\n",
    "encoded_features = mushroom_features_df.columns\n",
    "label_encoders = {feature: LabelEncoder() for feature in encoded_features}\n",
    "for feature, encoder in label_encoders.items():\n",
    "    mushroom_features_df[feature] = encoder.fit_transform(mushroom_features_df[feature])\n",
    "\n",
    "X = mushroom_features_df_encoded\n",
    "y = np.squeeze(mushroom_lb_poisonous.fit_transform(mushroom_classes_df))\n",
    "\n",
    "evaluate(clf, X, y, scoring=['accuracy', 'precision', 'recall', 'roc_auc', 'f1'])"
   ],
   "metadata": {
    "collapsed": false,
    "ExecuteTime": {
     "end_time": "2024-01-23T12:05:35.561465960Z",
     "start_time": "2024-01-23T12:05:34.465123707Z"
    }
   }
  },
  {
   "cell_type": "markdown",
   "source": [
    "# Boosted RF"
   ],
   "metadata": {
    "collapsed": false
   }
  },
  {
   "cell_type": "markdown",
   "source": [
    "Plain ol' AdaBoost"
   ],
   "metadata": {
    "collapsed": false
   }
  },
  {
   "cell_type": "code",
   "execution_count": 11,
   "outputs": [
    {
     "data": {
      "text/plain": "{'fit_time': 0.8088595390319824,\n 'score_time': 0.053123188018798825,\n 'test_accuracy': 0.9719298245614034,\n 'train_accuracy': 1.0,\n 'test_precision': 0.9769461694209735,\n 'train_precision': 1.0,\n 'test_recall': 0.9497502722903775,\n 'train_recall': 1.0,\n 'test_roc_auc': 0.9966182602092898,\n 'train_roc_auc': 1.0,\n 'test_f1': 0.9629576928742024,\n 'train_f1': 1.0}"
     },
     "execution_count": 11,
     "metadata": {},
     "output_type": "execute_result"
    }
   ],
   "source": [
    "from sklearn.ensemble import AdaBoostClassifier\n",
    "\n",
    "clf = AdaBoostClassifier(n_estimators=N_ESTIMATORS, algorithm='SAMME')\n",
    "\n",
    "X = breast_cancer_features_df\n",
    "breast_cancer_lb_diagnosis = LabelBinarizer()\n",
    "\n",
    "y = np.squeeze(breast_cancer_lb_diagnosis.fit_transform(breast_cancer_classes_df))\n",
    "\n",
    "evaluate(clf, X, y, scoring=['accuracy', 'precision', 'recall', 'roc_auc', 'f1'])"
   ],
   "metadata": {
    "collapsed": false,
    "ExecuteTime": {
     "end_time": "2024-01-23T12:05:36.823931933Z",
     "start_time": "2024-01-23T12:05:35.569008717Z"
    }
   }
  },
  {
   "cell_type": "markdown",
   "source": [
    "\"Boosted RF\""
   ],
   "metadata": {
    "collapsed": false
   }
  },
  {
   "cell_type": "code",
   "execution_count": 58,
   "outputs": [
    {
     "data": {
      "text/plain": "                 AdaBoost  Boosted RF\nfit_time         0.150450    0.115657\nscore_time       0.015987    0.010477\ntest_accuracy    0.973684    0.957895\ntrain_accuracy   1.000000    1.000000\ntest_precision   0.982013    0.960567\ntrain_precision  1.000000    1.000000\ntest_recall      0.950175    0.931909\ntrain_recall     1.000000    1.000000\ntest_roc_auc     0.994809    0.994775\ntrain_roc_auc    1.000000    1.000000\ntest_f1          0.965594    0.945234\ntrain_f1         1.000000    1.000000",
      "text/html": "<div>\n<style scoped>\n    .dataframe tbody tr th:only-of-type {\n        vertical-align: middle;\n    }\n\n    .dataframe tbody tr th {\n        vertical-align: top;\n    }\n\n    .dataframe thead th {\n        text-align: right;\n    }\n</style>\n<table border=\"1\" class=\"dataframe\">\n  <thead>\n    <tr style=\"text-align: right;\">\n      <th></th>\n      <th>AdaBoost</th>\n      <th>Boosted RF</th>\n    </tr>\n  </thead>\n  <tbody>\n    <tr>\n      <th>fit_time</th>\n      <td>0.150450</td>\n      <td>0.115657</td>\n    </tr>\n    <tr>\n      <th>score_time</th>\n      <td>0.015987</td>\n      <td>0.010477</td>\n    </tr>\n    <tr>\n      <th>test_accuracy</th>\n      <td>0.973684</td>\n      <td>0.957895</td>\n    </tr>\n    <tr>\n      <th>train_accuracy</th>\n      <td>1.000000</td>\n      <td>1.000000</td>\n    </tr>\n    <tr>\n      <th>test_precision</th>\n      <td>0.982013</td>\n      <td>0.960567</td>\n    </tr>\n    <tr>\n      <th>train_precision</th>\n      <td>1.000000</td>\n      <td>1.000000</td>\n    </tr>\n    <tr>\n      <th>test_recall</th>\n      <td>0.950175</td>\n      <td>0.931909</td>\n    </tr>\n    <tr>\n      <th>train_recall</th>\n      <td>1.000000</td>\n      <td>1.000000</td>\n    </tr>\n    <tr>\n      <th>test_roc_auc</th>\n      <td>0.994809</td>\n      <td>0.994775</td>\n    </tr>\n    <tr>\n      <th>train_roc_auc</th>\n      <td>1.000000</td>\n      <td>1.000000</td>\n    </tr>\n    <tr>\n      <th>test_f1</th>\n      <td>0.965594</td>\n      <td>0.945234</td>\n    </tr>\n    <tr>\n      <th>train_f1</th>\n      <td>1.000000</td>\n      <td>1.000000</td>\n    </tr>\n  </tbody>\n</table>\n</div>"
     },
     "metadata": {},
     "output_type": "display_data"
    }
   ],
   "source": [
    "from IPython.display import display\n",
    "from sklearn.tree import DecisionTreeClassifier\n",
    "\n",
    "BOOST_RF_N_ESTIMATORS = 50\n",
    "\n",
    "clf_ref = AdaBoostClassifier(n_estimators=BOOST_RF_N_ESTIMATORS, algorithm='SAMME')\n",
    "\n",
    "\n",
    "class BoostedRFClassifier(AdaBoostClassifier):\n",
    "    def __init__(\n",
    "            self,\n",
    "            *,\n",
    "            estimator=DecisionTreeClassifier(),\n",
    "            n_estimators=BOOST_RF_N_ESTIMATORS,\n",
    "            learning_rate=1.0,\n",
    "            random_state=None,\n",
    "            algorithm='SAMME',\n",
    "            _disable_weights=False\n",
    "    ):\n",
    "        super().__init__(\n",
    "            estimator=estimator,\n",
    "            n_estimators=n_estimators,\n",
    "            learning_rate=learning_rate,\n",
    "            random_state=random_state,\n",
    "            algorithm=algorithm\n",
    "        )\n",
    "\n",
    "        self._disable_weights = _disable_weights\n",
    "        self._estimator_weights = np.zeros(self.n_estimators, dtype=np.float64)\n",
    "\n",
    "    @property\n",
    "    def estimator_weights_(self):\n",
    "        return np.ones(self.n_estimators, dtype=np.float64) if self._disable_weights else self._estimator_weights\n",
    "\n",
    "    @estimator_weights_.setter\n",
    "    def estimator_weights_(self, v):\n",
    "        if not self._disable_weights:\n",
    "            self._estimator_weights = v\n",
    "\n",
    "\n",
    "clf = BoostedRFClassifier(\n",
    "    estimator=DecisionTreeClassifier(max_depth=5),\n",
    "    n_estimators=BOOST_RF_N_ESTIMATORS,\n",
    "    algorithm='SAMME',\n",
    "    _disable_weights=False\n",
    ")\n",
    "\n",
    "X = breast_cancer_features_df\n",
    "breast_cancer_lb_diagnosis = LabelBinarizer()\n",
    "\n",
    "y = np.squeeze(breast_cancer_lb_diagnosis.fit_transform(breast_cancer_classes_df))\n",
    "\n",
    "res_ref = evaluate(clf_ref, X, y, scoring=['accuracy', 'precision', 'recall', 'roc_auc', 'f1'])\n",
    "res, est = evaluate_return_estimator(clf, X, y, scoring=['accuracy', 'precision', 'recall', 'roc_auc', 'f1'])\n",
    "\n",
    "display(\n",
    "    pd.concat([\n",
    "        pd.DataFrame.from_dict(res_ref, orient='index')[0].rename('AdaBoost'),\n",
    "        pd.DataFrame.from_dict(res, orient='index')[0].rename('Boosted RF')\n",
    "    ], axis=1)\n",
    ")"
   ],
   "metadata": {
    "collapsed": false,
    "ExecuteTime": {
     "end_time": "2024-01-23T12:28:39.441140202Z",
     "start_time": "2024-01-23T12:28:38.893203904Z"
    }
   }
  }
 ],
 "metadata": {
  "kernelspec": {
   "display_name": "Python 3",
   "language": "python",
   "name": "python3"
  },
  "language_info": {
   "codemirror_mode": {
    "name": "ipython",
    "version": 2
   },
   "file_extension": ".py",
   "mimetype": "text/x-python",
   "name": "python",
   "nbconvert_exporter": "python",
   "pygments_lexer": "ipython2",
   "version": "2.7.6"
  }
 },
 "nbformat": 4,
 "nbformat_minor": 0
}
